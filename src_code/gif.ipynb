{
 "cells": [
  {
   "cell_type": "code",
   "execution_count": 9,
   "metadata": {},
   "outputs": [
    {
     "name": "stderr",
     "output_type": "stream",
     "text": [
      "C:\\Users\\Erika\\AppData\\Local\\Temp\\ipykernel_9464\\2292066722.py:9: DeprecationWarning: Starting with ImageIO v3 the behavior of this function will switch to that of iio.v3.imread. To keep the current behavior (and make this warning dissapear) use `import imageio.v2 as imageio` or call `imageio.v2.imread` directly.\n",
      "  images.append(imageio.imread('images/' + filename))\n"
     ]
    },
    {
     "name": "stdout",
     "output_type": "stream",
     "text": [
      "500_points_00_iterations.png\n",
      "500_points_05_iterations.png\n",
      "500_points_10_iterations.png\n",
      "500_points_15_iterations.png\n",
      "500_points_20_iterations.png\n",
      "500_points_25_iterations.png\n",
      "500_points_30_iterations.png\n",
      "500_points_35_iterations.png\n",
      "500_points_40_iterations.png\n",
      "500_points_45_iterations.png\n",
      "500_points_50_iterations.png\n",
      "500_points_55_iterations.png\n",
      "500_points_60_iterations.png\n",
      "500_points_70_iterations.png\n",
      "500_points_80_iterations.png\n",
      "500_points_90_iterations.png\n"
     ]
    }
   ],
   "source": [
    "# produce gif from images in this folder\n",
    "\n",
    "import imageio\n",
    "import os\n",
    "\n",
    "images = []\n",
    "for filename in os.listdir('images'):\n",
    "    if filename.endswith('.png'):\n",
    "        images.append(imageio.imread('images/' + filename))\n",
    "        print(filename)\n",
    "imageio.mimsave('images/animation.gif', images, duration=0.6, fps=1, loop = 0)\n"
   ]
  }
 ],
 "metadata": {
  "kernelspec": {
   "display_name": "deep-learn",
   "language": "python",
   "name": "python3"
  },
  "language_info": {
   "codemirror_mode": {
    "name": "ipython",
    "version": 3
   },
   "file_extension": ".py",
   "mimetype": "text/x-python",
   "name": "python",
   "nbconvert_exporter": "python",
   "pygments_lexer": "ipython3",
   "version": "3.9.5"
  },
  "orig_nbformat": 4
 },
 "nbformat": 4,
 "nbformat_minor": 2
}
